{
 "cells": [
  {
   "cell_type": "code",
   "execution_count": 1,
   "id": "1334c856",
   "metadata": {},
   "outputs": [],
   "source": [
    "import pyspark\n",
    "from pyspark.sql import SparkSession\n",
    "from pyspark.sql.functions import lit\n",
    "from pyspark.ml.recommendation import ALS\n",
    "import pandas as pd\n",
    "import numpy as np\n",
    "import matplotlib.pyplot as plt "
   ]
  },
  {
   "cell_type": "code",
   "execution_count": 2,
   "id": "4c9cf725",
   "metadata": {},
   "outputs": [],
   "source": [
    "movie_data = pd.read_csv('data/movies.dat',\n",
    "                                   sep=\"\\t|::\",\n",
    "                                   names=['movie_id','title','genres'], \n",
    "                                   header=None, \n",
    "                                   engine=\"python\")"
   ]
  },
  {
   "cell_type": "code",
   "execution_count": 3,
   "id": "f1da831d",
   "metadata": {},
   "outputs": [],
   "source": [
    "def load_data_to_spark():\n",
    "    df = pd.read_csv('data/training.csv')\n",
    "    df = df.drop(columns='timestamp')\n",
    "    spark = SparkSession.builder.getOrCreate()\n",
    "    s_df = spark.createDataFrame(df)\n",
    "    return s_df, df\n",
    "s_df, p_df = load_data_to_spark()"
   ]
  },
  {
   "cell_type": "code",
   "execution_count": 4,
   "id": "6a393476",
   "metadata": {},
   "outputs": [
    {
     "name": "stdout",
     "output_type": "stream",
     "text": [
      "+----+-----+------+\n",
      "|user|movie|rating|\n",
      "+----+-----+------+\n",
      "|6040|  858|     4|\n",
      "|6040|  593|     5|\n",
      "|6040| 2384|     4|\n",
      "|6040| 1961|     4|\n",
      "|6040| 2019|     5|\n",
      "|6040| 1419|     3|\n",
      "|6040|  573|     4|\n",
      "|6040| 3111|     5|\n",
      "|6040|  213|     5|\n",
      "|6040| 3505|     4|\n",
      "|6040| 1734|     2|\n",
      "|6040|  912|     5|\n",
      "|6040|  919|     5|\n",
      "|6040| 2503|     5|\n",
      "|6040|  527|     5|\n",
      "|6040|  318|     4|\n",
      "|6040| 1252|     5|\n",
      "|6040|  649|     5|\n",
      "|6040| 3289|     5|\n",
      "|6040|  759|     5|\n",
      "+----+-----+------+\n",
      "only showing top 20 rows\n",
      "\n"
     ]
    }
   ],
   "source": [
    "s_df.show()"
   ]
  },
  {
   "cell_type": "code",
   "execution_count": 5,
   "id": "07f9d605",
   "metadata": {},
   "outputs": [
    {
     "data": {
      "text/html": [
       "<div>\n",
       "<style scoped>\n",
       "    .dataframe tbody tr th:only-of-type {\n",
       "        vertical-align: middle;\n",
       "    }\n",
       "\n",
       "    .dataframe tbody tr th {\n",
       "        vertical-align: top;\n",
       "    }\n",
       "\n",
       "    .dataframe thead th {\n",
       "        text-align: right;\n",
       "    }\n",
       "</style>\n",
       "<table border=\"1\" class=\"dataframe\">\n",
       "  <thead>\n",
       "    <tr style=\"text-align: right;\">\n",
       "      <th></th>\n",
       "      <th>user</th>\n",
       "      <th>movie</th>\n",
       "      <th>rating</th>\n",
       "    </tr>\n",
       "  </thead>\n",
       "  <tbody>\n",
       "    <tr>\n",
       "      <th>0</th>\n",
       "      <td>6040</td>\n",
       "      <td>858</td>\n",
       "      <td>4</td>\n",
       "    </tr>\n",
       "    <tr>\n",
       "      <th>1</th>\n",
       "      <td>6040</td>\n",
       "      <td>593</td>\n",
       "      <td>5</td>\n",
       "    </tr>\n",
       "    <tr>\n",
       "      <th>2</th>\n",
       "      <td>6040</td>\n",
       "      <td>2384</td>\n",
       "      <td>4</td>\n",
       "    </tr>\n",
       "    <tr>\n",
       "      <th>3</th>\n",
       "      <td>6040</td>\n",
       "      <td>1961</td>\n",
       "      <td>4</td>\n",
       "    </tr>\n",
       "    <tr>\n",
       "      <th>4</th>\n",
       "      <td>6040</td>\n",
       "      <td>2019</td>\n",
       "      <td>5</td>\n",
       "    </tr>\n",
       "    <tr>\n",
       "      <th>...</th>\n",
       "      <td>...</td>\n",
       "      <td>...</td>\n",
       "      <td>...</td>\n",
       "    </tr>\n",
       "    <tr>\n",
       "      <th>799995</th>\n",
       "      <td>1875</td>\n",
       "      <td>2940</td>\n",
       "      <td>5</td>\n",
       "    </tr>\n",
       "    <tr>\n",
       "      <th>799996</th>\n",
       "      <td>1875</td>\n",
       "      <td>589</td>\n",
       "      <td>4</td>\n",
       "    </tr>\n",
       "    <tr>\n",
       "      <th>799997</th>\n",
       "      <td>1875</td>\n",
       "      <td>110</td>\n",
       "      <td>4</td>\n",
       "    </tr>\n",
       "    <tr>\n",
       "      <th>799998</th>\n",
       "      <td>1875</td>\n",
       "      <td>2791</td>\n",
       "      <td>3</td>\n",
       "    </tr>\n",
       "    <tr>\n",
       "      <th>799999</th>\n",
       "      <td>1875</td>\n",
       "      <td>2948</td>\n",
       "      <td>5</td>\n",
       "    </tr>\n",
       "  </tbody>\n",
       "</table>\n",
       "<p>800000 rows × 3 columns</p>\n",
       "</div>"
      ],
      "text/plain": [
       "        user  movie  rating\n",
       "0       6040    858       4\n",
       "1       6040    593       5\n",
       "2       6040   2384       4\n",
       "3       6040   1961       4\n",
       "4       6040   2019       5\n",
       "...      ...    ...     ...\n",
       "799995  1875   2940       5\n",
       "799996  1875    589       4\n",
       "799997  1875    110       4\n",
       "799998  1875   2791       3\n",
       "799999  1875   2948       5\n",
       "\n",
       "[800000 rows x 3 columns]"
      ]
     },
     "execution_count": 5,
     "metadata": {},
     "output_type": "execute_result"
    }
   ],
   "source": [
    "p_df"
   ]
  },
  {
   "cell_type": "code",
   "execution_count": 6,
   "id": "dc4d4eb3",
   "metadata": {},
   "outputs": [],
   "source": [
    "def get_density():\n",
    "    # get density from original data\n",
    "    p_df, _ = load_data_to_spark()\n",
    "    n_ratings = s_df.count()\n",
    "    n_users = s_df.select('user').distinct().count()\n",
    "    n_movies = s_df.select('movie').distinct().count()\n",
    "    density = n_ratings / (n_users * n_movies)\n",
    "    print('The original density is: {} '.format(density))\n",
    "    return density"
   ]
  },
  {
   "cell_type": "code",
   "execution_count": null,
   "id": "3cce7f34",
   "metadata": {},
   "outputs": [],
   "source": [
    "get_density()\n",
    "get_density()"
   ]
  },
  {
   "cell_type": "code",
   "execution_count": 8,
   "id": "f05a05dc",
   "metadata": {},
   "outputs": [
    {
     "name": "stdout",
     "output_type": "stream",
     "text": [
      "Number of unique users: 5399\n",
      "Number of unique movies: 3662\n",
      "Number of rating: 800000\n"
     ]
    }
   ],
   "source": [
    "\n",
    "\n",
    "print('Number of unique users: {}'.format(s_df.select('user').distinct().count()))\n",
    "print('Number of unique movies: {}'.format(s_df.select('movie').distinct().count()))\n",
    "print('Number of rating: {}'.format(s_df.count()))\n",
    "\n"
   ]
  },
  {
   "cell_type": "code",
   "execution_count": 9,
   "id": "4bbd6331",
   "metadata": {
    "tags": []
   },
   "outputs": [],
   "source": [
    "def traintestsplit():\n",
    "    ratings_df, _ = load_data_to_spark()\n",
    "    train, test = ratings_df.randomSplit([0.8, 0.2], seed=427471138)\n",
    "    return train, test"
   ]
  },
  {
   "cell_type": "code",
   "execution_count": 10,
   "id": "da64fa99",
   "metadata": {},
   "outputs": [],
   "source": [
    "train, test = traintestsplit()"
   ]
  },
  {
   "cell_type": "code",
   "execution_count": 11,
   "id": "90a0f372",
   "metadata": {},
   "outputs": [],
   "source": [
    "def get_train_density():\n",
    "    # get density from original data\n",
    "    train, _ = traintestsplit()\n",
    "    n_ratings = train.count()\n",
    "    n_users = train.select('user').distinct().count()\n",
    "    n_movies = train.select('movie').distinct().count()\n",
    "    density = n_ratings / (n_users * n_movies)\n",
    "    print('The train desnsity is: {} '.format(density))\n",
    "    return density"
   ]
  },
  {
   "cell_type": "code",
   "execution_count": null,
   "id": "b7517f0c",
   "metadata": {},
   "outputs": [],
   "source": []
  },
  {
   "cell_type": "code",
   "execution_count": 13,
   "id": "adfb2a4f",
   "metadata": {},
   "outputs": [],
   "source": [
    "def get_test_density():\n",
    "    # get density from original data\n",
    "    _, test = traintestsplit()\n",
    "    n_ratings = test.count()\n",
    "    n_users = test.select('user').distinct().count()\n",
    "    n_movies = test.select('movie').distinct().count()\n",
    "    density = n_ratings / (n_users * n_movies)\n",
    "    print('The test desnsity is: {} '.format(density))\n",
    "    return density"
   ]
  },
  {
   "cell_type": "code",
   "execution_count": null,
   "id": "7f8272be",
   "metadata": {},
   "outputs": [],
   "source": []
  },
  {
   "cell_type": "code",
   "execution_count": 14,
   "id": "524062c6",
   "metadata": {},
   "outputs": [
    {
     "name": "stdout",
     "output_type": "stream",
     "text": [
      "The original density is: 0.04046302241176001 \n"
     ]
    },
    {
     "data": {
      "text/plain": [
       "0.04046302241176001"
      ]
     },
     "execution_count": 14,
     "metadata": {},
     "output_type": "execute_result"
    }
   ],
   "source": [
    "get_density()"
   ]
  },
  {
   "cell_type": "code",
   "execution_count": 15,
   "id": "d2d1834b",
   "metadata": {},
   "outputs": [
    {
     "name": "stdout",
     "output_type": "stream",
     "text": [
      "The train desnsity is: 0.03271967148547561 \n"
     ]
    },
    {
     "data": {
      "text/plain": [
       "0.03271967148547561"
      ]
     },
     "execution_count": 15,
     "metadata": {},
     "output_type": "execute_result"
    }
   ],
   "source": [
    "get_train_density()"
   ]
  },
  {
   "cell_type": "code",
   "execution_count": 16,
   "id": "f12322b8",
   "metadata": {},
   "outputs": [
    {
     "name": "stdout",
     "output_type": "stream",
     "text": [
      "The test desnsity is: 0.008720338117892072 \n"
     ]
    },
    {
     "data": {
      "text/plain": [
       "0.008720338117892072"
      ]
     },
     "execution_count": 16,
     "metadata": {},
     "output_type": "execute_result"
    }
   ],
   "source": [
    "get_test_density()"
   ]
  },
  {
   "cell_type": "code",
   "execution_count": 17,
   "id": "3e985b13",
   "metadata": {},
   "outputs": [
    {
     "name": "stdout",
     "output_type": "stream",
     "text": [
      "Max Ratings: 1509\n",
      "Min Ratings: 1\n"
     ]
    },
    {
     "data": {
      "text/plain": [
       "<AxesSubplot:>"
      ]
     },
     "execution_count": 17,
     "metadata": {},
     "output_type": "execute_result"
    },
    {
     "data": {
      "image/png": "[encoded data removed]",
      "text/plain": [
       "<Figure size 432x288 with 1 Axes>"
      ]
     },
     "metadata": {
      "needs_background": "light"
     },
     "output_type": "display_data"
    }
   ],
   "source": [
    "# train user\n",
    "user_count = train.groupBy('user').count().toPandas()\n",
    "\n",
    "print('Max Ratings: {}'.format(user_count['count'].max()))\n",
    "print('Min Ratings: {}'.format(user_count['count'].min()))\n",
    "user_count['count'].hist(bins = 100)"
   ]
  },
  {
   "cell_type": "code",
   "execution_count": 21,
   "id": "ef16668a",
   "metadata": {},
   "outputs": [
    {
     "name": "stdout",
     "output_type": "stream",
     "text": [
      "Max Ratings: 2317\n",
      "Min Ratings: 1\n"
     ]
    },
    {
     "data": {
      "text/plain": [
       "<AxesSubplot:>"
      ]
     },
     "execution_count": 21,
     "metadata": {},
     "output_type": "execute_result"
    },
    {
     "data": {
      "image/png": "[encoded data removed]",
      "text/plain": [
       "<Figure size 432x288 with 1 Axes>"
      ]
     },
     "metadata": {
      "needs_background": "light"
     },
     "output_type": "display_data"
    }
   ],
   "source": [
    "# train movie\n",
    "movie_count = train.groupBy('movie').count().toPandas()\n",
    "\n",
    "print('Max Ratings: {}'.format(movie_count['count'].max()))\n",
    "print('Min Ratings: {}'.format(movie_count['count'].min()))\n",
    "movie_count['count'].hist(bins = 100)"
   ]
  },
  {
   "cell_type": "code",
   "execution_count": 22,
   "id": "061d6849",
   "metadata": {},
   "outputs": [
    {
     "name": "stdout",
     "output_type": "stream",
     "text": [
      "Max Ratings: 340\n",
      "Min Ratings: 1\n"
     ]
    },
    {
     "data": {
      "text/plain": [
       "<AxesSubplot:>"
      ]
     },
     "execution_count": 22,
     "metadata": {},
     "output_type": "execute_result"
    },
    {
     "data": {
      "image/png": "[encoded data removed]",
      "text/plain": [
       "<Figure size 432x288 with 1 Axes>"
      ]
     },
     "metadata": {
      "needs_background": "light"
     },
     "output_type": "display_data"
    }
   ],
   "source": [
    "# test user\n",
    "user_count = test.groupBy('user').count().toPandas()\n",
    "\n",
    "print('Max Ratings: {}'.format(user_count['count'].max()))\n",
    "print('Min Ratings: {}'.format(user_count['count'].min()))\n",
    "user_count['count'].hist(bins = 100)"
   ]
  },
  {
   "cell_type": "code",
   "execution_count": 24,
   "id": "d3042bc8",
   "metadata": {},
   "outputs": [
    {
     "name": "stdout",
     "output_type": "stream",
     "text": [
      "Max Ratings: 584\n",
      "Min Ratings: 1\n"
     ]
    },
    {
     "data": {
      "text/plain": [
       "<AxesSubplot:>"
      ]
     },
     "execution_count": 24,
     "metadata": {},
     "output_type": "execute_result"
    },
    {
     "data": {
      "image/png": "[encoded data removed]",
      "text/plain": [
       "<Figure size 432x288 with 1 Axes>"
      ]
     },
     "metadata": {
      "needs_background": "light"
     },
     "output_type": "display_data"
    }
   ],
   "source": [
    "# test movie\n",
    "movie_count = test.groupBy('movie').count().toPandas()\n",
    "\n",
    "print('Max Ratings: {}'.format(movie_count['count'].max()))\n",
    "print('Min Ratings: {}'.format(movie_count['count'].min()))\n",
    "movie_count['count'].hist(bins = 100)"
   ]
  },
  {
   "cell_type": "markdown",
   "id": "044733cd",
   "metadata": {},
   "source": [
    "# The Model"
   ]
  },
  {
   "cell_type": "code",
   "execution_count": 34,
   "id": "52659cfb",
   "metadata": {},
   "outputs": [],
   "source": [
    "# instantiate the model and set its parameters\n",
    "als_model = ALS(\n",
    "    itemCol='movie',\n",
    "    userCol='user',\n",
    "    ratingCol='rating',\n",
    "    nonnegative=True,    \n",
    "    regParam=0.1,\n",
    "    rank=10) "
   ]
  },
  {
   "cell_type": "code",
   "execution_count": 35,
   "id": "be7ccee7",
   "metadata": {},
   "outputs": [],
   "source": [
    "# fitting\n",
    "recommender = als_model.fit(train)"
   ]
  },
  {
   "cell_type": "code",
   "execution_count": 45,
   "id": "7d8413e0",
   "metadata": {},
   "outputs": [],
   "source": [
    "user_factor_df = recommender.userFactors.filter('id = 1')\n",
    "item_factor_df = recommender.itemFactors.filter('id = 100')"
   ]
  },
  {
   "cell_type": "code",
   "execution_count": 46,
   "id": "6ae120b5",
   "metadata": {},
   "outputs": [
    {
     "name": "stdout",
     "output_type": "stream",
     "text": [
      "+---+--------------------+\n",
      "| id|            features|\n",
      "+---+--------------------+\n",
      "|100|[0.7274901, 0.467...|\n",
      "+---+--------------------+\n",
      "\n"
     ]
    }
   ],
   "source": [
    "item_factor_df.show()"
   ]
  },
  {
   "cell_type": "code",
   "execution_count": 47,
   "id": "62d0dee4",
   "metadata": {},
   "outputs": [
    {
     "name": "stdout",
     "output_type": "stream",
     "text": [
      "+---+--------+\n",
      "| id|features|\n",
      "+---+--------+\n",
      "+---+--------+\n",
      "\n"
     ]
    }
   ],
   "source": [
    "user_factor_df.show()"
   ]
  },
  {
   "cell_type": "code",
   "execution_count": null,
   "id": "4fb3eb20",
   "metadata": {},
   "outputs": [],
   "source": []
  },
  {
   "cell_type": "code",
   "execution_count": null,
   "id": "44bbfe56",
   "metadata": {},
   "outputs": [],
   "source": []
  },
  {
   "cell_type": "code",
   "execution_count": null,
   "id": "a8c656ef",
   "metadata": {},
   "outputs": [],
   "source": []
  }
 ],
 "metadata": {
  "kernelspec": {
   "display_name": "Python 3",
   "language": "python",
   "name": "python3"
  },
  "language_info": {
   "codemirror_mode": {
    "name": "ipython",
    "version": 3
   },
   "file_extension": ".py",
   "mimetype": "text/x-python",
   "name": "python",
   "nbconvert_exporter": "python",
   "pygments_lexer": "ipython3",
   "version": "3.8.8"
  }
 },
 "nbformat": 4,
 "nbformat_minor": 5
}
