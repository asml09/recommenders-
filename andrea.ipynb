{
 "cells": [
  {
   "cell_type": "code",
   "execution_count": 8,
   "metadata": {
    "collapsed": true
   },
   "outputs": [],
   "source": [
    "import pandas as pd \n",
    "import numpy as np\n",
    "import matplotlib.pyplot as plt \n",
    "\n",
    "\n",
    "\n",
    "import pyspark\n",
    "from pyspark.sql.types import *\n",
    "from pyspark.ml.tuning import TrainValidationSplit\n",
    "from pyspark.ml.recommendation import ALS\n",
    "from pyspark.ml.evaluation import RegressionEvaluator\n",
    "\n",
    "\n",
    "# Build our Spark Session and Context\n",
    "spark = pyspark.sql.SparkSession.builder.getOrCreate()\n",
    "sc = spark.sparkContext\n",
    "spark, sc\n",
    "\n",
    "\n",
    "from pyspark.sql.functions import lit\n",
    "from pyspark.sql.types import StructType, StructField, IntegerType\n",
    "from pyspark.sql.functions import countDistinct, col"
   ]
  },
  {
   "cell_type": "code",
   "execution_count": 9,
   "metadata": {
    "collapsed": false
   },
   "outputs": [],
   "source": [
    "movie_data = pd.read_csv('data/movies.dat',\n",
    "                                   sep=\"\\t|::\",\n",
    "                                   names=['movie_id','title','genres'], \n",
    "                                   header=None, \n",
    "                                   engine=\"python\")"
   ]
  },
  {
   "cell_type": "code",
   "execution_count": 14,
   "metadata": {
    "collapsed": false
   },
   "outputs": [],
   "source": [
    "def load_data_to_spark():\n",
    "    df = pd.read_csv('data/training.csv')\n",
    "    spark = SparkSession.builder.getOrCreate()\n",
    "    s_df = spark.createDataFrame(df)\n",
    "    return s_df, df\n",
    " "
   ]
  },
  {
   "cell_type": "code",
   "execution_count": 15,
   "metadata": {
    "collapsed": false
   },
   "outputs": [],
   "source": [
    "s_df, p_df = load_data_to_spark()"
   ]
  },
  {
   "cell_type": "code",
   "execution_count": 16,
   "metadata": {
    "collapsed": false
   },
   "outputs": [
    {
     "name": "stdout",
     "output_type": "stream",
     "text": [
      "+----+-----+------+---------+\n",
      "|user|movie|rating|timestamp|\n",
      "+----+-----+------+---------+\n",
      "|6040|  858|     4|956703932|\n",
      "|6040|  593|     5|956703954|\n",
      "|6040| 2384|     4|956703954|\n",
      "|6040| 1961|     4|956703977|\n",
      "|6040| 2019|     5|956703977|\n",
      "|6040| 1419|     3|956704056|\n",
      "|6040|  573|     4|956704056|\n",
      "|6040| 3111|     5|956704056|\n",
      "|6040|  213|     5|956704056|\n",
      "|6040| 3505|     4|956704056|\n",
      "|6040| 1734|     2|956704081|\n",
      "|6040|  912|     5|956704191|\n",
      "|6040|  919|     5|956704191|\n",
      "|6040| 2503|     5|956704191|\n",
      "|6040|  527|     5|956704219|\n",
      "|6040|  318|     4|956704257|\n",
      "|6040| 1252|     5|956704257|\n",
      "|6040|  649|     5|956704257|\n",
      "|6040| 3289|     5|956704305|\n",
      "|6040|  759|     5|956704448|\n",
      "+----+-----+------+---------+\n",
      "only showing top 20 rows\n",
      "\n"
     ]
    }
   ],
   "source": [
    "s_df.show()"
   ]
  },
  {
   "cell_type": "code",
   "execution_count": 17,
   "metadata": {
    "collapsed": true
   },
   "outputs": [],
   "source": [
    "def get_density():\n",
    "    # get density from original data\n",
    "    p_df, _ = load_data_to_spark()\n",
    "    n_ratings = s_df.count()\n",
    "    n_users = s_df.select('user').distinct().count()\n",
    "    n_movies = s_df.select('movie').distinct().count()\n",
    "    density = n_ratings / (n_users * n_movies)\n",
    "    print('The original density is: {} '.format(density))\n",
    "    return density"
   ]
  },
  {
   "cell_type": "code",
   "execution_count": 18,
   "metadata": {
    "collapsed": true
   },
   "outputs": [],
   "source": [
    "def traintestsplit():\n",
    "    ratings_df, _ = load_data_to_spark()\n",
    "    train, test = ratings_df.randomSplit([0.8, 0.2], seed=427471138)\n",
    "    return train, test"
   ]
  },
  {
   "cell_type": "code",
   "execution_count": 19,
   "metadata": {
    "collapsed": true
   },
   "outputs": [],
   "source": [
    "def get_train_density():\n",
    "    # get density from original data\n",
    "    train, _ = traintestsplit()\n",
    "    n_ratings = train.count()\n",
    "    n_users = train.select('user').distinct().count()\n",
    "    n_movies = train.select('movie').distinct().count()\n",
    "    density = n_ratings / (n_users * n_movies)\n",
    "    print('The train desnsity is: {} '.format(density))\n",
    "    return density"
   ]
  },
  {
   "cell_type": "code",
   "execution_count": 20,
   "metadata": {
    "collapsed": true
   },
   "outputs": [],
   "source": [
    "def get_test_density():\n",
    "    # get density from original data\n",
    "    _, test = traintestsplit()\n",
    "    n_ratings = test.count()\n",
    "    n_users = test.select('user').distinct().count()\n",
    "    n_movies = test.select('movie').distinct().count()\n",
    "    density = n_ratings / (n_users * n_movies)\n",
    "    print('The test desnsity is: {} '.format(density))\n",
    "    return density"
   ]
  },
  {
   "cell_type": "code",
   "execution_count": 21,
   "metadata": {
    "collapsed": false
   },
   "outputs": [
    {
     "name": "stdout",
     "output_type": "stream",
     "text": [
      "The original density is: 0.04046302241176001 \n"
     ]
    },
    {
     "data": {
      "text/plain": [
       "0.04046302241176001"
      ]
     },
     "execution_count": 21,
     "metadata": {},
     "output_type": "execute_result"
    }
   ],
   "source": [
    "get_density()"
   ]
  },
  {
   "cell_type": "code",
   "execution_count": 22,
   "metadata": {
    "collapsed": false
   },
   "outputs": [
    {
     "name": "stdout",
     "output_type": "stream",
     "text": [
      "The train desnsity is: 0.03257245318242673 \n"
     ]
    },
    {
     "data": {
      "text/plain": [
       "0.03257245318242673"
      ]
     },
     "execution_count": 22,
     "metadata": {},
     "output_type": "execute_result"
    }
   ],
   "source": [
    "get_train_density()"
   ]
  },
  {
   "cell_type": "code",
   "execution_count": 23,
   "metadata": {
    "collapsed": false
   },
   "outputs": [
    {
     "name": "stdout",
     "output_type": "stream",
     "text": [
      "The test desnsity is: 0.008776990345157408 \n"
     ]
    },
    {
     "data": {
      "text/plain": [
       "0.008776990345157408"
      ]
     },
     "execution_count": 23,
     "metadata": {},
     "output_type": "execute_result"
    }
   ],
   "source": [
    "get_test_density()"
   ]
  },
  {
   "cell_type": "code",
   "execution_count": 24,
   "metadata": {
    "collapsed": true
   },
   "outputs": [],
   "source": [
    "# instantiate the model and set its parameters\n",
    "als_model = ALS(\n",
    "    itemCol='movie',\n",
    "    userCol='user',\n",
    "    ratingCol='rating',\n",
    "    nonnegative=True,    \n",
    "    regParam=0.1,\n",
    "    rank=10) "
   ]
  },
  {
   "cell_type": "code",
   "execution_count": 26,
   "metadata": {
    "collapsed": false
   },
   "outputs": [],
   "source": [
    "# fitting\n",
    "train, test = traintestsplit()\n",
    "recommender = als_model.fit(train)"
   ]
  },
  {
   "cell_type": "code",
   "execution_count": 27,
   "metadata": {
    "collapsed": false
   },
   "outputs": [
    {
     "name": "stdout",
     "output_type": "stream",
     "text": [
      "+----+-----+------+---------+\n",
      "|user|movie|rating|timestamp|\n",
      "+----+-----+------+---------+\n",
      "|3375|  265|     1|967595224|\n",
      "|3375|  293|     3|967595382|\n",
      "|3375|  434|     4|967595560|\n",
      "|3375| 1090|     5|967595382|\n",
      "|3375| 1562|     3|967595188|\n",
      "|3375| 1587|     3|967595560|\n",
      "|3375| 1625|     4|967595451|\n",
      "|3375| 2000|     5|967595474|\n",
      "|3375| 2001|     4|967595513|\n",
      "|3375| 2302|     5|967595474|\n",
      "|3375| 2431|     3|967595637|\n",
      "|3375| 2529|     4|967595432|\n",
      "|3375| 2959|     4|967595407|\n",
      "|3375| 3176|     1|967595612|\n",
      "|3375| 3177|     4|967595535|\n",
      "|3375| 3263|     3|967595612|\n",
      "|3375| 3452|     5|967595535|\n",
      "|3375| 3753|     5|967595261|\n",
      "|3375| 3755|     5|967595286|\n",
      "|3375| 3879|     5|967595286|\n",
      "+----+-----+------+---------+\n",
      "only showing top 20 rows\n",
      "\n"
     ]
    }
   ],
   "source": [
    "# find if there are some movies that do not appear in train\n",
    "# s_df is dataset before split \n",
    "train.show()\n"
   ]
  },
  {
   "cell_type": "code",
   "execution_count": 37,
   "metadata": {
    "collapsed": false
   },
   "outputs": [],
   "source": [
    "# distinct = s_df.select(\"movie\").distinct().show()\n",
    "train_pd = train.toPandas()\n",
    "# distinct = p_df.movie.unique()\n",
    "# distinct\n",
    "distinct = train_pd.movie.unique()"
   ]
  },
  {
   "cell_type": "code",
   "execution_count": 38,
   "metadata": {
    "collapsed": false
   },
   "outputs": [
    {
     "data": {
      "text/plain": [
       "[3522,\n",
       " 530,\n",
       " 2685,\n",
       " 1842,\n",
       " 887,\n",
       " 1709,\n",
       " 3228,\n",
       " 3337,\n",
       " 1685,\n",
       " 2685,\n",
       " 1470,\n",
       " 655,\n",
       " 139,\n",
       " 1316,\n",
       " 989,\n",
       " 2685,\n",
       " 2217,\n",
       " 2484,\n",
       " 579,\n",
       " 601,\n",
       " 3220,\n",
       " 1118,\n",
       " 3377,\n",
       " 641,\n",
       " 3126,\n",
       " 1471,\n",
       " 2556]"
      ]
     },
     "execution_count": 38,
     "metadata": {},
     "output_type": "execute_result"
    }
   ],
   "source": [
    "not_in_train = []\n",
    "for row in s_df.rdd.collect():\n",
    "    movie = row['movie']\n",
    "    if movie not in distinct:\n",
    "        not_in_train.append(movie)\n",
    "not_in_train\n",
    "    \n",
    "    "
   ]
  },
  {
   "cell_type": "code",
   "execution_count": 39,
   "metadata": {
    "collapsed": true
   },
   "outputs": [],
   "source": [
    "# idea for cold start - if movie doesn't show up in test, don't recommend it in top 5\n",
    "# item to item similarity\n",
    "# neighborhoods - size of these that you use\n",
    "# use combinations of different models \n",
    "# types of similarity - cosine similarity\n",
    "# cold start - user shows up that hasn't rated any movies or movie thats never been reviewed\n",
    "# "
   ]
  },
  {
   "cell_type": "code",
   "execution_count": null,
   "metadata": {
    "collapsed": true
   },
   "outputs": [],
   "source": [
    "# neighborhoods \n",
    "# similarity based recommender \n",
    "# "
   ]
  }
 ],
 "metadata": {
  "kernelspec": {
   "display_name": "Python 3",
   "language": "python",
   "name": "python3"
  },
  "language_info": {
   "codemirror_mode": {
    "name": "ipython",
    "version": 3
   },
   "file_extension": ".py",
   "mimetype": "text/x-python",
   "name": "python",
   "nbconvert_exporter": "python",
   "pygments_lexer": "ipython3",
   "version": "3.5.2"
  }
 },
 "nbformat": 4,
 "nbformat_minor": 4
}
